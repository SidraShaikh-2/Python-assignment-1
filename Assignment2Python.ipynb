{
 "cells": [
  {
   "cell_type": "code",
   "execution_count": 3,
   "metadata": {},
   "outputs": [
    {
     "name": "stdout",
     "output_type": "stream",
     "text": [
      "Enter marks of the Maths : 80\n",
      "Enter marks of the English : 77\n",
      "Enter marks of the Physics : 92\n",
      "Enter marks of the Chemistry : 80\n",
      "Enter marks of the History : 77\n",
      "Grade: B\n"
     ]
    }
   ],
   "source": [
    "#Assignment 2\n",
    "#Qs1\n",
    "#Marksheet\n",
    "sub1=int(input(\"Enter marks of the Maths : \"))\n",
    "sub2=int(input(\"Enter marks of the English : \"))\n",
    "sub3=int(input(\"Enter marks of the Physics : \"))\n",
    "sub4=int(input(\"Enter marks of the Chemistry : \"))\n",
    "sub5=int(input(\"Enter marks of the History : \"))\n",
    "avg=(sub1+sub2+sub3+sub4+sub4)/5 #taking total in average form\n",
    "if(avg>=90):\n",
    "    print(\"Grade: A\")\n",
    "elif(avg>=80 and avg<90):\n",
    "    print(\"Grade: B\")\n",
    "elif(avg>=70 and avg<80):\n",
    "    print(\"Grade: C\")\n",
    "elif(avg>=60 and avg<70):\n",
    "    print(\"Grade: D\")\n",
    "else:\n",
    "    print(\"Grade: F\")"
   ]
  },
  {
   "cell_type": "code",
   "execution_count": 4,
   "metadata": {},
   "outputs": [
    {
     "name": "stdout",
     "output_type": "stream",
     "text": [
      "Enter any number: 3\n",
      "This is an odd number.\n"
     ]
    }
   ],
   "source": [
    "#Q2\n",
    "#Even or odd\n",
    "num=int(input(\"Enter any number: \"))\n",
    "mod= num % 2\n",
    "if mod > 0:\n",
    "    print(\"This is an odd number.\")\n",
    "else:\n",
    "    print(\"This is an even number.\")"
   ]
  },
  {
   "cell_type": "code",
   "execution_count": 5,
   "metadata": {},
   "outputs": [
    {
     "name": "stdout",
     "output_type": "stream",
     "text": [
      "5\n"
     ]
    }
   ],
   "source": [
    "#Q3\n",
    "#Length of the List\n",
    "L=[1,3,4,5,7]\n",
    "length_of_list=len(L)\n",
    "print(length_of_list)"
   ]
  },
  {
   "cell_type": "code",
   "execution_count": 6,
   "metadata": {},
   "outputs": [
    {
     "name": "stdout",
     "output_type": "stream",
     "text": [
      "Sum of all elements in given list:  73\n"
     ]
    }
   ],
   "source": [
    "#Q4\n",
    "#Sum of numeric items in list\n",
    "list1=[11,5,17,18,22]    #creating list\n",
    "def sumOfList(list,size):   #creating sum_list function \n",
    "    if (size==0):\n",
    "        return 0\n",
    "    else:\n",
    "        return list[size-1]+sumOfList(list,size-1)\n",
    "total = sumOfList(list1, len(list1)) \n",
    "  \n",
    "print(\"Sum of all elements in given list: \", total) "
   ]
  },
  {
   "cell_type": "code",
   "execution_count": 7,
   "metadata": {},
   "outputs": [
    {
     "name": "stdout",
     "output_type": "stream",
     "text": [
      "Largest element is: 99\n"
     ]
    }
   ],
   "source": [
    "#Q5\n",
    "#largest number from a numeric list\n",
    "list1 = [10, 20, 4, 45, 99] #creating list\n",
    "print(\"Largest element is:\", max(list1))  #printing the maximum/largest element"
   ]
  },
  {
   "cell_type": "code",
   "execution_count": 9,
   "metadata": {},
   "outputs": [
    {
     "name": "stdout",
     "output_type": "stream",
     "text": [
      "1\n",
      "1\n",
      "2\n",
      "3\n"
     ]
    }
   ],
   "source": [
    "#Q6\n",
    "#elements of the list that areless than 5\n",
    "a = [1, 1, 2, 3, 5, 8, 13, 21, 34, 55, 89]\n",
    "for i in a:\n",
    "    if i < 5:\n",
    "        print(i)"
   ]
  },
  {
   "cell_type": "code",
   "execution_count": null,
   "metadata": {},
   "outputs": [],
   "source": []
  }
 ],
 "metadata": {
  "kernelspec": {
   "display_name": "Python 3",
   "language": "python",
   "name": "python3"
  },
  "language_info": {
   "codemirror_mode": {
    "name": "ipython",
    "version": 3
   },
   "file_extension": ".py",
   "mimetype": "text/x-python",
   "name": "python",
   "nbconvert_exporter": "python",
   "pygments_lexer": "ipython3",
   "version": "3.7.4"
  }
 },
 "nbformat": 4,
 "nbformat_minor": 2
}
