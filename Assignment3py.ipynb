{
 "cells": [
  {
   "cell_type": "code",
   "execution_count": 9,
   "metadata": {},
   "outputs": [
    {
     "name": "stdout",
     "output_type": "stream",
     "text": [
      "Enter first value 2\n",
      "Enter second value 3\n",
      "Enter operator **\n",
      "8 Answer\n"
     ]
    }
   ],
   "source": [
    "#Assignment 3\n",
    "#Q1\n",
    "#Calculator\n",
    "val1 = int(input('Enter first value '))\n",
    "val2 = int(input('Enter second value '))\n",
    "operator = input('Enter operator ')             \n",
    "if operator == '+':     #Addition\n",
    "    val = val1 + val2\n",
    "    print(val, 'Answer')\n",
    "elif operator == '-':   #Subtraction\n",
    "    val = val1 - val2\n",
    "    print(val, 'Answer')\n",
    "elif operator == '*':   #Multiplication\n",
    "    val = val1 * val2\n",
    "    print(val, 'Answer')\n",
    "elif operator == '/':   #Division\n",
    "    val = val1 / val2\n",
    "    print(val, 'Answer')\n",
    "elif operator == '**':  #Power\n",
    "    val = val1 ** val2\n",
    "    print(val, 'Answer')\n",
    "else:\n",
    "    print(\"Incorrect operator\")\n",
    "             \n"
   ]
  },
  {
   "cell_type": "code",
   "execution_count": 16,
   "metadata": {},
   "outputs": [
    {
     "name": "stdout",
     "output_type": "stream",
     "text": [
      "Enter any numeric value: 3\n",
      "Numeric value exists in the list.\n"
     ]
    }
   ],
   "source": [
    "#Q2\n",
    "#numeric value in list using for loop\n",
    "test_list = [ 1, 6, 3, 5, 3, 4 ] \n",
    "a=int(input(\"Enter any numeric value: \"))\n",
    "if (a in test_list): \n",
    "    print (\"Numeric value exists in the list.\") \n",
    "else:\n",
    "    print(\"Numeric value doesn't exist in the list.\")"
   ]
  },
  {
   "cell_type": "code",
   "execution_count": 17,
   "metadata": {},
   "outputs": [
    {
     "name": "stdout",
     "output_type": "stream",
     "text": [
      "{0: 10, 1: 20}\n",
      "{0: 10, 1: 20, 2: 30}\n"
     ]
    }
   ],
   "source": [
    "#Q3\n",
    "#script to add a key to a dictionary\n",
    "d = {0:10, 1:20}\n",
    "print(d)\n",
    "d.update({2:30})\n",
    "print(d)"
   ]
  },
  {
   "cell_type": "code",
   "execution_count": 18,
   "metadata": {},
   "outputs": [
    {
     "name": "stdout",
     "output_type": "stream",
     "text": [
      "293\n"
     ]
    }
   ],
   "source": [
    "#Q4\n",
    "#sum all the numeric items in a dictionary\n",
    "my_dict = {'data1':100,'data2':-54,'data3':247}\n",
    "print(sum(my_dict.values()))"
   ]
  },
  {
   "cell_type": "code",
   "execution_count": 19,
   "metadata": {},
   "outputs": [
    {
     "name": "stdout",
     "output_type": "stream",
     "text": [
      "[3, 9, 12]\n"
     ]
    }
   ],
   "source": [
    "#Q5\n",
    "#duplicate values from list\n",
    "lst = [ 3, 6, 9, 12, 3, 30, 15, 9, 45, 36, 12, 12]\n",
    "dupItems = []\n",
    "uniqItems = {}\n",
    "for x in lst:\n",
    "   if x not in uniqItems:\n",
    "      uniqItems[x] = 1\n",
    "   else:\n",
    "      if uniqItems[x] == 1:\n",
    "         dupItems.append(x)\n",
    "      uniqItems[x] += 1\n",
    "print(dupItems)"
   ]
  },
  {
   "cell_type": "code",
   "execution_count": 20,
   "metadata": {},
   "outputs": [
    {
     "name": "stdout",
     "output_type": "stream",
     "text": [
      "Key is present in the dictionary\n",
      "Key is not present in the dictionary\n"
     ]
    }
   ],
   "source": [
    "#Q6\n",
    "#script to check if a given key already exists in a dictionary\n",
    "d = {1: 10, 2: 20, 3: 30, 4: 40, 5: 50, 6: 60}\n",
    "def is_key_present(x):\n",
    "  if x in d:\n",
    "      print('Key is present in the dictionary')\n",
    "  else:\n",
    "      print('Key is not present in the dictionary')\n",
    "is_key_present(5)\n",
    "is_key_present(9)\n"
   ]
  },
  {
   "cell_type": "code",
   "execution_count": null,
   "metadata": {},
   "outputs": [],
   "source": []
  }
 ],
 "metadata": {
  "kernelspec": {
   "display_name": "Python 3",
   "language": "python",
   "name": "python3"
  },
  "language_info": {
   "codemirror_mode": {
    "name": "ipython",
    "version": 3
   },
   "file_extension": ".py",
   "mimetype": "text/x-python",
   "name": "python",
   "nbconvert_exporter": "python",
   "pygments_lexer": "ipython3",
   "version": "3.7.4"
  }
 },
 "nbformat": 4,
 "nbformat_minor": 2
}
